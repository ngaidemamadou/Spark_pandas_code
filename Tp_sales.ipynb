{
 "cells": [
  {
   "cell_type": "code",
   "execution_count": 1,
   "metadata": {},
   "outputs": [],
   "source": [
    "import numpy as np \n",
    "import pandas as pd \n",
    "import seaborn as sns; sns.set()\n",
    "import matplotlib.pyplot as plt"
   ]
  },
  {
   "cell_type": "code",
   "execution_count": 2,
   "metadata": {},
   "outputs": [],
   "source": [
    "df_pandas = pd.read_csv('sales_data_sample.csv', sep=',' , encoding='ansi')"
   ]
  },
  {
   "cell_type": "code",
   "execution_count": 3,
   "metadata": {},
   "outputs": [
    {
     "data": {
      "text/html": [
       "<div>\n",
       "<style scoped>\n",
       "    .dataframe tbody tr th:only-of-type {\n",
       "        vertical-align: middle;\n",
       "    }\n",
       "\n",
       "    .dataframe tbody tr th {\n",
       "        vertical-align: top;\n",
       "    }\n",
       "\n",
       "    .dataframe thead th {\n",
       "        text-align: right;\n",
       "    }\n",
       "</style>\n",
       "<table border=\"1\" class=\"dataframe\">\n",
       "  <thead>\n",
       "    <tr style=\"text-align: right;\">\n",
       "      <th></th>\n",
       "      <th>ORDERNUMBER</th>\n",
       "      <th>QUANTITYORDERED</th>\n",
       "      <th>PRICEEACH</th>\n",
       "      <th>ORDERLINENUMBER</th>\n",
       "      <th>SALES</th>\n",
       "      <th>ORDERDATE</th>\n",
       "      <th>STATUS</th>\n",
       "      <th>QTR_ID</th>\n",
       "      <th>MONTH_ID</th>\n",
       "      <th>YEAR_ID</th>\n",
       "      <th>...</th>\n",
       "      <th>ADDRESSLINE1</th>\n",
       "      <th>ADDRESSLINE2</th>\n",
       "      <th>CITY</th>\n",
       "      <th>STATE</th>\n",
       "      <th>POSTALCODE</th>\n",
       "      <th>COUNTRY</th>\n",
       "      <th>TERRITORY</th>\n",
       "      <th>CONTACTLASTNAME</th>\n",
       "      <th>CONTACTFIRSTNAME</th>\n",
       "      <th>DEALSIZE</th>\n",
       "    </tr>\n",
       "  </thead>\n",
       "  <tbody>\n",
       "    <tr>\n",
       "      <th>0</th>\n",
       "      <td>10107</td>\n",
       "      <td>30</td>\n",
       "      <td>95.70</td>\n",
       "      <td>2</td>\n",
       "      <td>2871.00</td>\n",
       "      <td>2/24/2003 0:00</td>\n",
       "      <td>Shipped</td>\n",
       "      <td>1</td>\n",
       "      <td>2</td>\n",
       "      <td>2003</td>\n",
       "      <td>...</td>\n",
       "      <td>897 Long Airport Avenue</td>\n",
       "      <td>NaN</td>\n",
       "      <td>NYC</td>\n",
       "      <td>NY</td>\n",
       "      <td>10022</td>\n",
       "      <td>USA</td>\n",
       "      <td>NaN</td>\n",
       "      <td>Yu</td>\n",
       "      <td>Kwai</td>\n",
       "      <td>Small</td>\n",
       "    </tr>\n",
       "    <tr>\n",
       "      <th>1</th>\n",
       "      <td>10121</td>\n",
       "      <td>34</td>\n",
       "      <td>81.35</td>\n",
       "      <td>5</td>\n",
       "      <td>2765.90</td>\n",
       "      <td>5/7/2003 0:00</td>\n",
       "      <td>Shipped</td>\n",
       "      <td>2</td>\n",
       "      <td>5</td>\n",
       "      <td>2003</td>\n",
       "      <td>...</td>\n",
       "      <td>59 rue de l'Abbaye</td>\n",
       "      <td>NaN</td>\n",
       "      <td>Reims</td>\n",
       "      <td>NaN</td>\n",
       "      <td>51100</td>\n",
       "      <td>France</td>\n",
       "      <td>EMEA</td>\n",
       "      <td>Henriot</td>\n",
       "      <td>Paul</td>\n",
       "      <td>Small</td>\n",
       "    </tr>\n",
       "    <tr>\n",
       "      <th>2</th>\n",
       "      <td>10134</td>\n",
       "      <td>41</td>\n",
       "      <td>94.74</td>\n",
       "      <td>2</td>\n",
       "      <td>3884.34</td>\n",
       "      <td>7/1/2003 0:00</td>\n",
       "      <td>Shipped</td>\n",
       "      <td>3</td>\n",
       "      <td>7</td>\n",
       "      <td>2003</td>\n",
       "      <td>...</td>\n",
       "      <td>27 rue du Colonel Pierre Avia</td>\n",
       "      <td>NaN</td>\n",
       "      <td>Paris</td>\n",
       "      <td>NaN</td>\n",
       "      <td>75508</td>\n",
       "      <td>France</td>\n",
       "      <td>EMEA</td>\n",
       "      <td>Da Cunha</td>\n",
       "      <td>Daniel</td>\n",
       "      <td>Medium</td>\n",
       "    </tr>\n",
       "    <tr>\n",
       "      <th>3</th>\n",
       "      <td>10145</td>\n",
       "      <td>45</td>\n",
       "      <td>83.26</td>\n",
       "      <td>6</td>\n",
       "      <td>3746.70</td>\n",
       "      <td>8/25/2003 0:00</td>\n",
       "      <td>Shipped</td>\n",
       "      <td>3</td>\n",
       "      <td>8</td>\n",
       "      <td>2003</td>\n",
       "      <td>...</td>\n",
       "      <td>78934 Hillside Dr.</td>\n",
       "      <td>NaN</td>\n",
       "      <td>Pasadena</td>\n",
       "      <td>CA</td>\n",
       "      <td>90003</td>\n",
       "      <td>USA</td>\n",
       "      <td>NaN</td>\n",
       "      <td>Young</td>\n",
       "      <td>Julie</td>\n",
       "      <td>Medium</td>\n",
       "    </tr>\n",
       "    <tr>\n",
       "      <th>4</th>\n",
       "      <td>10159</td>\n",
       "      <td>49</td>\n",
       "      <td>100.00</td>\n",
       "      <td>14</td>\n",
       "      <td>5205.27</td>\n",
       "      <td>10/10/2003 0:00</td>\n",
       "      <td>Shipped</td>\n",
       "      <td>4</td>\n",
       "      <td>10</td>\n",
       "      <td>2003</td>\n",
       "      <td>...</td>\n",
       "      <td>7734 Strong St.</td>\n",
       "      <td>NaN</td>\n",
       "      <td>San Francisco</td>\n",
       "      <td>CA</td>\n",
       "      <td>NaN</td>\n",
       "      <td>USA</td>\n",
       "      <td>NaN</td>\n",
       "      <td>Brown</td>\n",
       "      <td>Julie</td>\n",
       "      <td>Medium</td>\n",
       "    </tr>\n",
       "  </tbody>\n",
       "</table>\n",
       "<p>5 rows × 25 columns</p>\n",
       "</div>"
      ],
      "text/plain": [
       "   ORDERNUMBER  QUANTITYORDERED  PRICEEACH  ORDERLINENUMBER    SALES  \\\n",
       "0        10107               30      95.70                2  2871.00   \n",
       "1        10121               34      81.35                5  2765.90   \n",
       "2        10134               41      94.74                2  3884.34   \n",
       "3        10145               45      83.26                6  3746.70   \n",
       "4        10159               49     100.00               14  5205.27   \n",
       "\n",
       "         ORDERDATE   STATUS  QTR_ID  MONTH_ID  YEAR_ID  ...  \\\n",
       "0   2/24/2003 0:00  Shipped       1         2     2003  ...   \n",
       "1    5/7/2003 0:00  Shipped       2         5     2003  ...   \n",
       "2    7/1/2003 0:00  Shipped       3         7     2003  ...   \n",
       "3   8/25/2003 0:00  Shipped       3         8     2003  ...   \n",
       "4  10/10/2003 0:00  Shipped       4        10     2003  ...   \n",
       "\n",
       "                    ADDRESSLINE1  ADDRESSLINE2           CITY STATE  \\\n",
       "0        897 Long Airport Avenue           NaN            NYC    NY   \n",
       "1             59 rue de l'Abbaye           NaN          Reims   NaN   \n",
       "2  27 rue du Colonel Pierre Avia           NaN          Paris   NaN   \n",
       "3             78934 Hillside Dr.           NaN       Pasadena    CA   \n",
       "4                7734 Strong St.           NaN  San Francisco    CA   \n",
       "\n",
       "  POSTALCODE COUNTRY TERRITORY CONTACTLASTNAME CONTACTFIRSTNAME DEALSIZE  \n",
       "0      10022     USA       NaN              Yu             Kwai    Small  \n",
       "1      51100  France      EMEA         Henriot             Paul    Small  \n",
       "2      75508  France      EMEA        Da Cunha           Daniel   Medium  \n",
       "3      90003     USA       NaN           Young            Julie   Medium  \n",
       "4        NaN     USA       NaN           Brown            Julie   Medium  \n",
       "\n",
       "[5 rows x 25 columns]"
      ]
     },
     "execution_count": 3,
     "metadata": {},
     "output_type": "execute_result"
    }
   ],
   "source": [
    "df_pandas.head(5)"
   ]
  },
  {
   "cell_type": "code",
   "execution_count": 4,
   "metadata": {},
   "outputs": [
    {
     "data": {
      "text/plain": [
       "<Axes: ylabel='count'>"
      ]
     },
     "execution_count": 4,
     "metadata": {},
     "output_type": "execute_result"
    },
    {
     "data": {
      "image/png": "[encoded data removed]",
      "text/plain": [
       "<Figure size 400x300 with 1 Axes>"
      ]
     },
     "metadata": {},
     "output_type": "display_data"
    }
   ],
   "source": [
    "plt.figure(figsize = (4,3))\n",
    "df_pandas.dtypes.value_counts().plot.pie()"
   ]
  },
  {
   "cell_type": "code",
   "execution_count": 5,
   "metadata": {},
   "outputs": [],
   "source": [
    "def count_vall_null_df_pandas(df_miss) : \n",
    "    df_miss_count_pd = df_miss.isna().sum()\n",
    "    return df_miss_count_pd"
   ]
  },
  {
   "cell_type": "code",
   "execution_count": 6,
   "metadata": {},
   "outputs": [
    {
     "data": {
      "text/plain": [
       "ORDERNUMBER            0\n",
       "QUANTITYORDERED        0\n",
       "PRICEEACH              0\n",
       "ORDERLINENUMBER        0\n",
       "SALES                  0\n",
       "ORDERDATE              0\n",
       "STATUS                 0\n",
       "QTR_ID                 0\n",
       "MONTH_ID               0\n",
       "YEAR_ID                0\n",
       "PRODUCTLINE            0\n",
       "MSRP                   0\n",
       "PRODUCTCODE            0\n",
       "CUSTOMERNAME           0\n",
       "PHONE                  0\n",
       "ADDRESSLINE1           0\n",
       "ADDRESSLINE2        2521\n",
       "CITY                   0\n",
       "STATE               1486\n",
       "POSTALCODE            76\n",
       "COUNTRY                0\n",
       "TERRITORY           1074\n",
       "CONTACTLASTNAME        0\n",
       "CONTACTFIRSTNAME       0\n",
       "DEALSIZE               0\n",
       "dtype: int64"
      ]
     },
     "execution_count": 6,
     "metadata": {},
     "output_type": "execute_result"
    }
   ],
   "source": [
    "count_vall_null_df_pandas(df_pandas)"
   ]
  },
  {
   "cell_type": "code",
   "execution_count": 7,
   "metadata": {},
   "outputs": [
    {
     "data": {
      "text/plain": [
       "(2823, 25)"
      ]
     },
     "execution_count": 7,
     "metadata": {},
     "output_type": "execute_result"
    }
   ],
   "source": [
    "df_pandas.shape"
   ]
  },
  {
   "cell_type": "code",
   "execution_count": 8,
   "metadata": {},
   "outputs": [],
   "source": [
    "missing_values = (df_pandas.isna().sum()*100)/df_pandas.shape[0]"
   ]
  },
  {
   "cell_type": "code",
   "execution_count": 9,
   "metadata": {},
   "outputs": [
    {
     "data": {
      "text/plain": [
       "<Axes: title={'center': 'données manquantes'}, ylabel='%'>"
      ]
     },
     "execution_count": 9,
     "metadata": {},
     "output_type": "execute_result"
    },
    {
     "data": {
      "image/png": "[encoded data removed]",
      "text/plain": [
       "<Figure size 600x500 with 1 Axes>"
      ]
     },
     "metadata": {},
     "output_type": "display_data"
    }
   ],
   "source": [
    "plt.figure(figsize = (6,5))\n",
    "plt.xticks(rotation = 90)\n",
    "plt.ylabel('%')\n",
    "plt.title('données manquantes')\n",
    "sns.barplot( x = df_pandas.columns, y =missing_values)"
   ]
  },
  {
   "cell_type": "code",
   "execution_count": 10,
   "metadata": {},
   "outputs": [],
   "source": [
    "# Nettoyages des données avec pandas"
   ]
  },
  {
   "cell_type": "code",
   "execution_count": 11,
   "metadata": {},
   "outputs": [
    {
     "data": {
      "text/plain": [
       "0    EMEA\n",
       "Name: TERRITORY, dtype: object"
      ]
     },
     "execution_count": 11,
     "metadata": {},
     "output_type": "execute_result"
    }
   ],
   "source": [
    "df_pandas['TERRITORY'].mode()"
   ]
  },
  {
   "cell_type": "code",
   "execution_count": 12,
   "metadata": {},
   "outputs": [],
   "source": [
    "mode_territory = df_pandas['TERRITORY'].mode()[0]"
   ]
  },
  {
   "cell_type": "code",
   "execution_count": 13,
   "metadata": {},
   "outputs": [
    {
     "data": {
      "text/plain": [
       "'EMEA'"
      ]
     },
     "execution_count": 13,
     "metadata": {},
     "output_type": "execute_result"
    }
   ],
   "source": [
    "mode_territory"
   ]
  },
  {
   "cell_type": "code",
   "execution_count": 14,
   "metadata": {},
   "outputs": [
    {
     "data": {
      "text/plain": [
       "0"
      ]
     },
     "execution_count": 14,
     "metadata": {},
     "output_type": "execute_result"
    }
   ],
   "source": [
    "df_pandas['TERRITORY'].fillna(mode_territory, inplace=True)\n",
    "missing_values_count = df_pandas['TERRITORY'].isna().sum()\n",
    "missing_values_count"
   ]
  },
  {
   "cell_type": "code",
   "execution_count": 15,
   "metadata": {},
   "outputs": [],
   "source": [
    "df_pandas['ADDRESSLINE2'].fillna(df_pandas['ADDRESSLINE2'].mode()[0] , inplace= True)"
   ]
  },
  {
   "cell_type": "code",
   "execution_count": 16,
   "metadata": {},
   "outputs": [],
   "source": [
    "df_pandas['STATE'].fillna(df_pandas['STATE'].mode()[0] , inplace= True)"
   ]
  },
  {
   "cell_type": "code",
   "execution_count": 17,
   "metadata": {},
   "outputs": [],
   "source": [
    "df_pandas['POSTALCODE'].fillna(df_pandas['POSTALCODE'].mode()[0] , inplace= True)"
   ]
  },
  {
   "cell_type": "code",
   "execution_count": 18,
   "metadata": {},
   "outputs": [
    {
     "data": {
      "text/plain": [
       "ORDERNUMBER         0\n",
       "QUANTITYORDERED     0\n",
       "PRICEEACH           0\n",
       "ORDERLINENUMBER     0\n",
       "SALES               0\n",
       "ORDERDATE           0\n",
       "STATUS              0\n",
       "QTR_ID              0\n",
       "MONTH_ID            0\n",
       "YEAR_ID             0\n",
       "PRODUCTLINE         0\n",
       "MSRP                0\n",
       "PRODUCTCODE         0\n",
       "CUSTOMERNAME        0\n",
       "PHONE               0\n",
       "ADDRESSLINE1        0\n",
       "ADDRESSLINE2        0\n",
       "CITY                0\n",
       "STATE               0\n",
       "POSTALCODE          0\n",
       "COUNTRY             0\n",
       "TERRITORY           0\n",
       "CONTACTLASTNAME     0\n",
       "CONTACTFIRSTNAME    0\n",
       "DEALSIZE            0\n",
       "dtype: int64"
      ]
     },
     "execution_count": 18,
     "metadata": {},
     "output_type": "execute_result"
    }
   ],
   "source": [
    "count_vall_null_df_pandas(df_pandas)"
   ]
  },
  {
   "cell_type": "markdown",
   "metadata": {},
   "source": [
    "#### USING SPARK FOR TRANSFORMATIONS"
   ]
  },
  {
   "cell_type": "code",
   "execution_count": 19,
   "metadata": {},
   "outputs": [],
   "source": [
    "from pyspark.sql import SparkSession\n",
    "from pyspark.sql.functions import *"
   ]
  },
  {
   "cell_type": "code",
   "execution_count": 20,
   "metadata": {},
   "outputs": [],
   "source": [
    "#Creer une session spark pour pouvoir interagir avec les fonctionnalité de spark\n",
    "\n",
    "spark = SparkSession.builder.appName('Tr aitement_doonées').getOrCreate() "
   ]
  },
  {
   "cell_type": "code",
   "execution_count": 21,
   "metadata": {},
   "outputs": [],
   "source": [
    "# importer mes données avec spark : \n",
    "df_spark1 = spark.read.csv('sales_data_sample.csv', header = True, inferSchema= True)"
   ]
  },
  {
   "cell_type": "code",
   "execution_count": 22,
   "metadata": {},
   "outputs": [
    {
     "name": "stdout",
     "output_type": "stream",
     "text": [
      "nombre de colonnes : 25, nombre de lignes : 2823\n"
     ]
    }
   ],
   "source": [
    "# la taille de mon dataframe : \n",
    "print( f\"nombre de colonnes : {len(df_spark1.columns)}, nombre de lignes : {df_spark1.count()}\")"
   ]
  },
  {
   "cell_type": "code",
   "execution_count": 23,
   "metadata": {},
   "outputs": [
    {
     "name": "stdout",
     "output_type": "stream",
     "text": [
      "root\n",
      " |-- ORDERNUMBER: integer (nullable = true)\n",
      " |-- QUANTITYORDERED: integer (nullable = true)\n",
      " |-- PRICEEACH: double (nullable = true)\n",
      " |-- ORDERLINENUMBER: integer (nullable = true)\n",
      " |-- SALES: double (nullable = true)\n",
      " |-- ORDERDATE: string (nullable = true)\n",
      " |-- STATUS: string (nullable = true)\n",
      " |-- QTR_ID: integer (nullable = true)\n",
      " |-- MONTH_ID: integer (nullable = true)\n",
      " |-- YEAR_ID: integer (nullable = true)\n",
      " |-- PRODUCTLINE: string (nullable = true)\n",
      " |-- MSRP: integer (nullable = true)\n",
      " |-- PRODUCTCODE: string (nullable = true)\n",
      " |-- CUSTOMERNAME: string (nullable = true)\n",
      " |-- PHONE: string (nullable = true)\n",
      " |-- ADDRESSLINE1: string (nullable = true)\n",
      " |-- ADDRESSLINE2: string (nullable = true)\n",
      " |-- CITY: string (nullable = true)\n",
      " |-- STATE: string (nullable = true)\n",
      " |-- POSTALCODE: string (nullable = true)\n",
      " |-- COUNTRY: string (nullable = true)\n",
      " |-- TERRITORY: string (nullable = true)\n",
      " |-- CONTACTLASTNAME: string (nullable = true)\n",
      " |-- CONTACTFIRSTNAME: string (nullable = true)\n",
      " |-- DEALSIZE: string (nullable = true)\n",
      "\n"
     ]
    }
   ],
   "source": [
    "# les types de chaque colonnes  : \n",
    "df_spark1.printSchema()"
   ]
  },
  {
   "cell_type": "code",
   "execution_count": 24,
   "metadata": {},
   "outputs": [
    {
     "data": {
      "text/plain": [
       "[('ORDERNUMBER', 'int'),\n",
       " ('QUANTITYORDERED', 'int'),\n",
       " ('PRICEEACH', 'double'),\n",
       " ('ORDERLINENUMBER', 'int'),\n",
       " ('SALES', 'double'),\n",
       " ('ORDERDATE', 'string'),\n",
       " ('STATUS', 'string'),\n",
       " ('QTR_ID', 'int'),\n",
       " ('MONTH_ID', 'int'),\n",
       " ('YEAR_ID', 'int'),\n",
       " ('PRODUCTLINE', 'string'),\n",
       " ('MSRP', 'int'),\n",
       " ('PRODUCTCODE', 'string'),\n",
       " ('CUSTOMERNAME', 'string'),\n",
       " ('PHONE', 'string'),\n",
       " ('ADDRESSLINE1', 'string'),\n",
       " ('ADDRESSLINE2', 'string'),\n",
       " ('CITY', 'string'),\n",
       " ('STATE', 'string'),\n",
       " ('POSTALCODE', 'string'),\n",
       " ('COUNTRY', 'string'),\n",
       " ('TERRITORY', 'string'),\n",
       " ('CONTACTLASTNAME', 'string'),\n",
       " ('CONTACTFIRSTNAME', 'string'),\n",
       " ('DEALSIZE', 'string')]"
      ]
     },
     "execution_count": 24,
     "metadata": {},
     "output_type": "execute_result"
    }
   ],
   "source": [
    "df_spark1.dtypes"
   ]
  },
  {
   "cell_type": "code",
   "execution_count": 25,
   "metadata": {},
   "outputs": [],
   "source": [
    "## Orderdate est de type String, a transformer en type date "
   ]
  },
  {
   "cell_type": "code",
   "execution_count": 26,
   "metadata": {},
   "outputs": [
    {
     "data": {
      "text/plain": [
       "('ORDERDATE', 'date')"
      ]
     },
     "execution_count": 26,
     "metadata": {},
     "output_type": "execute_result"
    }
   ],
   "source": [
    "df_spark1 = df_spark1.withColumn('ORDERDATE', to_date(col('ORDERDATE'), 'M/d/y H:mm'))\n",
    "df_spark1.dtypes[5]"
   ]
  },
  {
   "cell_type": "code",
   "execution_count": 27,
   "metadata": {},
   "outputs": [],
   "source": [
    "# fonction qui me compte le nombre de valeurs nulles sur mon dataframe"
   ]
  },
  {
   "cell_type": "code",
   "execution_count": 28,
   "metadata": {},
   "outputs": [],
   "source": [
    "def count_vall_null_df_spark(dataframe) : \n",
    "    for colonne , dtype in dataframe.dtypes :\n",
    "        if dtype == 'date' : \n",
    "            count = dataframe.filter(col(colonne).isNull()).count() \n",
    "        else : \n",
    "            count = dataframe.filter(col(colonne).isNull() | isnan(col(colonne))).count()\n",
    "        x = print(f\"{colonne}, {count}\")\n",
    "    return x \n"
   ]
  },
  {
   "cell_type": "code",
   "execution_count": 29,
   "metadata": {},
   "outputs": [
    {
     "name": "stdout",
     "output_type": "stream",
     "text": [
      "ORDERNUMBER, 0\n",
      "QUANTITYORDERED, 0\n",
      "PRICEEACH, 0\n",
      "ORDERLINENUMBER, 0\n",
      "SALES, 0\n",
      "ORDERDATE, 0\n",
      "STATUS, 0\n",
      "QTR_ID, 0\n",
      "MONTH_ID, 0\n",
      "YEAR_ID, 0\n",
      "PRODUCTLINE, 0\n",
      "MSRP, 0\n",
      "PRODUCTCODE, 0\n",
      "CUSTOMERNAME, 0\n",
      "PHONE, 0\n",
      "ADDRESSLINE1, 0\n",
      "ADDRESSLINE2, 2521\n",
      "CITY, 0\n",
      "STATE, 1486\n",
      "POSTALCODE, 76\n",
      "COUNTRY, 0\n",
      "TERRITORY, 0\n",
      "CONTACTLASTNAME, 0\n",
      "CONTACTFIRSTNAME, 0\n",
      "DEALSIZE, 0\n"
     ]
    }
   ],
   "source": [
    "count_vall_null_df_spark(df_spark1)"
   ]
  },
  {
   "cell_type": "markdown",
   "metadata": {},
   "source": [
    "#### 2. Effectuez un nettoyage des données en supprimant toutes les valeurs nulles ou manquantes du dataframe"
   ]
  },
  {
   "cell_type": "code",
   "execution_count": 36,
   "metadata": {},
   "outputs": [],
   "source": [
    "df_spark1 = df_spark1.na.drop()"
   ]
  },
  {
   "cell_type": "code",
   "execution_count": 40,
   "metadata": {},
   "outputs": [
    {
     "name": "stdout",
     "output_type": "stream",
     "text": [
      "ORDERNUMBER, 0\n",
      "QUANTITYORDERED, 0\n",
      "PRICEEACH, 0\n",
      "ORDERLINENUMBER, 0\n",
      "SALES, 0\n",
      "ORDERDATE, 0\n",
      "STATUS, 0\n",
      "QTR_ID, 0\n",
      "MONTH_ID, 0\n",
      "YEAR_ID, 0\n",
      "PRODUCTLINE, 0\n",
      "MSRP, 0\n",
      "PRODUCTCODE, 0\n",
      "CUSTOMERNAME, 0\n",
      "PHONE, 0\n",
      "ADDRESSLINE1, 0\n",
      "ADDRESSLINE2, 0\n",
      "CITY, 0\n",
      "STATE, 0\n",
      "POSTALCODE, 0\n",
      "COUNTRY, 0\n",
      "TERRITORY, 0\n",
      "CONTACTLASTNAME, 0\n",
      "CONTACTFIRSTNAME, 0\n",
      "DEALSIZE, 0\n",
      "250 ,25\n"
     ]
    }
   ],
   "source": [
    "count_vall_null_df_spark(df_spark1)\n",
    "print(f\"{df_spark1.count()} ,{len(df_spark1.columns)}\")"
   ]
  },
  {
   "cell_type": "markdown",
   "metadata": {},
   "source": [
    "#### 3) Calculer les ventes total pour chaque catégorie de produits"
   ]
  },
  {
   "cell_type": "code",
   "execution_count": 41,
   "metadata": {},
   "outputs": [],
   "source": [
    "df_spark1.createOrReplaceGlobalTempView('df_sql') "
   ]
  },
  {
   "cell_type": "code",
   "execution_count": 42,
   "metadata": {},
   "outputs": [
    {
     "name": "stdout",
     "output_type": "stream",
     "text": [
      "+-----------+-------------------------+\n",
      "|PRODUCTCODE|total_sales_par_categorie|\n",
      "+-----------+-------------------------+\n",
      "|   S18_2238|                 28455.05|\n",
      "|   S18_3232|                 26372.86|\n",
      "|   S10_4698|                 26062.79|\n",
      "|   S18_2795|                 19255.22|\n",
      "|   S18_4721|                 19087.96|\n",
      "|   S18_4027|                 18900.91|\n",
      "|   S12_1666|                 18616.09|\n",
      "|   S24_2887|                 18576.34|\n",
      "|   S18_2949|                 18120.69|\n",
      "|   S18_1342|                 16796.87|\n",
      "+-----------+-------------------------+\n",
      "only showing top 10 rows\n",
      "\n"
     ]
    }
   ],
   "source": [
    "# Methode 1 en utulisant spark sql createGlobaltempview \n",
    "\n",
    "sales_total_par_categorie= spark.sql(\"\"\"   \n",
    "            SELECT PRODUCTCODE, ROUND(SUM(SALES),2) AS total_sales_par_categorie\n",
    "            FROM global_temp.df_sql\n",
    "            WHERE PRODUCTCODE is not NULL\n",
    "            GROUP BY  PRODUCTCODE\n",
    "            ORDER BY SUM(SALES) DESC  \"\"\")\n",
    "sales_total_par_categorie.show(10)"
   ]
  },
  {
   "cell_type": "code",
   "execution_count": 43,
   "metadata": {},
   "outputs": [],
   "source": [
    "from pyspark.sql import functions as F"
   ]
  },
  {
   "cell_type": "code",
   "execution_count": 44,
   "metadata": {},
   "outputs": [
    {
     "name": "stdout",
     "output_type": "stream",
     "text": [
      "+-----------+--------------+\n",
      "|PRODUCTCODE|VENTES_TOTALES|\n",
      "+-----------+--------------+\n",
      "|   S18_2238|      28455.05|\n",
      "|   S18_3232|      26372.86|\n",
      "|   S10_4698|      26062.79|\n",
      "|   S18_2795|      19255.22|\n",
      "|   S18_4721|      19087.96|\n",
      "|   S18_4027|      18900.91|\n",
      "|   S12_1666|      18616.09|\n",
      "|   S24_2887|      18576.34|\n",
      "|   S18_2949|      18120.69|\n",
      "|   S18_1342|      16796.87|\n",
      "+-----------+--------------+\n",
      "only showing top 10 rows\n",
      "\n"
     ]
    }
   ],
   "source": [
    "# deuxieme_methode\n",
    "ventes_par_categorie = df_spark1.groupBy(\"PRODUCTCODE\") \\\n",
    "                                .agg(F.round(F.sum(\"SALES\"), 2).alias(\"VENTES_TOTALES\")) \\\n",
    "                                .orderBy(F.desc(\"VENTES_TOTALES\"))\n",
    "ventes_par_categorie.show(10)\n"
   ]
  },
  {
   "cell_type": "markdown",
   "metadata": {},
   "source": [
    "#### 4) Trouvez le top 5 des produits avec les revenus de ventes les plus élevés"
   ]
  },
  {
   "cell_type": "code",
   "execution_count": 45,
   "metadata": {},
   "outputs": [
    {
     "name": "stdout",
     "output_type": "stream",
     "text": [
      "+-----------+--------+\n",
      "|PRODUCTCODE|   Top_5|\n",
      "+-----------+--------+\n",
      "|   S18_2238|28455.05|\n",
      "|   S18_3232|26372.86|\n",
      "|   S10_4698|26062.79|\n",
      "|   S18_2795|19255.22|\n",
      "|   S18_4721|19087.96|\n",
      "+-----------+--------+\n",
      "\n"
     ]
    }
   ],
   "source": [
    "# Methode_1 \n",
    "top_5 = spark.sql(\"\"\"\n",
    "                  SELECT PRODUCTCODE , SUM(SALES) as Top_5\n",
    "                  FROM global_temp.df_sql \n",
    "                  WHERE PRODUCTCODE is not NULL\n",
    "                  GROUP BY PRODUCTCODE \n",
    "                  ORDER BY SUM(SALES)  DESC\n",
    "                  LIMIT 5\n",
    "                  \"\"\")\n",
    "top_5.show()"
   ]
  },
  {
   "cell_type": "code",
   "execution_count": 46,
   "metadata": {},
   "outputs": [
    {
     "name": "stdout",
     "output_type": "stream",
     "text": [
      "+-----------+--------------+\n",
      "|PRODUCTCODE|VENTES_TOTALES|\n",
      "+-----------+--------------+\n",
      "|   S18_2238|      28455.05|\n",
      "|   S18_3232|      26372.86|\n",
      "|   S10_4698|      26062.79|\n",
      "|   S18_2795|      19255.22|\n",
      "|   S18_4721|      19087.96|\n",
      "+-----------+--------------+\n",
      "\n"
     ]
    }
   ],
   "source": [
    "# Methode_2 \n",
    "top5 = df_spark1.groupBy(\"PRODUCTCODE\").agg(F.round(F.sum(\"SALES\"),2).alias(\"VENTES_TOTALES\" )) \\\n",
    "                          .orderBy(F.desc(\"VENTES_TOTALES\")) \n",
    "top5.limit(5).show()"
   ]
  },
  {
   "cell_type": "markdown",
   "metadata": {},
   "source": [
    "##### 5) calculer le revenues de ventes moyen par mois"
   ]
  },
  {
   "cell_type": "code",
   "execution_count": 65,
   "metadata": {},
   "outputs": [
    {
     "name": "stdout",
     "output_type": "stream",
     "text": [
      "+----+-------------+\n",
      "|MOIS|Ventes_moyens|\n",
      "+----+-------------+\n",
      "|  12|      3510.43|\n",
      "|  11|      3655.38|\n",
      "|  10|      4214.12|\n",
      "|   9|      3370.84|\n",
      "|   7|      3717.86|\n",
      "|   6|      4564.14|\n",
      "|   5|      3580.64|\n",
      "|   4|      3389.27|\n",
      "|   3|      3516.03|\n",
      "|   2|      3309.17|\n",
      "|   1|      3337.84|\n",
      "+----+-------------+\n",
      "\n"
     ]
    }
   ],
   "source": [
    "# Methode_1 \n",
    "\n",
    "sql_r_v_m = spark.sql(\"\"\" \n",
    "                        SELECT MONTH(ORDERDATE) AS MOIS ,ROUND(AVG(SALES),2) AS Ventes_moyens \n",
    "                        FROM global_temp.df_sql \n",
    "                        WHERE PRODUCTCODE is NOT NULL\n",
    "                        GROUP BY  MONTH(ORDERDATE)\n",
    "                        ORDER BY  MONTH(ORDERDATE) DESC \n",
    "                      \"\"\")\n",
    "sql_r_v_m.show()"
   ]
  },
  {
   "cell_type": "code",
   "execution_count": 63,
   "metadata": {},
   "outputs": [
    {
     "name": "stdout",
     "output_type": "stream",
     "text": [
      "+----+------------+\n",
      "|MOIS|Ventes_Total|\n",
      "+----+------------+\n",
      "|  12|     3510.43|\n",
      "|  11|     3655.38|\n",
      "|  10|     4214.12|\n",
      "|   9|     3370.84|\n",
      "|   7|     3717.86|\n",
      "|   6|     4564.14|\n",
      "|   5|     3580.64|\n",
      "|   4|     3389.27|\n",
      "|   3|     3516.03|\n",
      "|   2|     3309.17|\n",
      "|   1|     3337.84|\n",
      "+----+------------+\n",
      "\n"
     ]
    }
   ],
   "source": [
    "# Methode_2 \n",
    "df_spark_r_v_m = df_spark1.groupBy(F.month(\"ORDERDATE\").alias(\"MOIS\")).agg(F.round(F.avg(\"SALES\"),2).alias(\"Ventes_Total\")) \\\n",
    "                          .orderBy(F.desc(\"MOIS\")) \n",
    "df_spark_r_v_m.show()\n"
   ]
  },
  {
   "cell_type": "markdown",
   "metadata": {},
   "source": [
    "##### 6.1) Enregistrer le dataframe_nettoyer en csv"
   ]
  },
  {
   "cell_type": "code",
   "execution_count": 101,
   "metadata": {},
   "outputs": [],
   "source": [
    "spark.conf.set(\"spark.hadoop.fs.permissions.enable\", \"false\")"
   ]
  },
  {
   "cell_type": "code",
   "execution_count": 130,
   "metadata": {},
   "outputs": [],
   "source": [
    "#try:\n",
    "#    df_spark1.write.mode(\"overwrite\").format(\"csv\").option(\"header\", \"true\").save(\"df_cleaned.csv\")\n",
    "#except Exception as e:\n",
    " #   print(f\"Une erreur s'est produite {str(e)}\")\n",
    "  #  raise  # Re-lève l'exception pour obtenir la trace complète\n"
   ]
  },
  {
   "cell_type": "code",
   "execution_count": 129,
   "metadata": {},
   "outputs": [
    {
     "data": {
      "text/plain": [
       "\"c:\\\\Users\\\\MamadouN'GAIDE\\\\Desktop\\\\Python\""
      ]
     },
     "execution_count": 129,
     "metadata": {},
     "output_type": "execute_result"
    }
   ],
   "source": [
    "pwd"
   ]
  },
  {
   "cell_type": "code",
   "execution_count": null,
   "metadata": {},
   "outputs": [],
   "source": []
  }
 ],
 "metadata": {
  "kernelspec": {
   "display_name": "base",
   "language": "python",
   "name": "python3"
  },
  "language_info": {
   "codemirror_mode": {
    "name": "ipython",
    "version": 3
   },
   "file_extension": ".py",
   "mimetype": "text/x-python",
   "name": "python",
   "nbconvert_exporter": "python",
   "pygments_lexer": "ipython3",
   "version": "3.11.5"
  }
 },
 "nbformat": 4,
 "nbformat_minor": 2
}
